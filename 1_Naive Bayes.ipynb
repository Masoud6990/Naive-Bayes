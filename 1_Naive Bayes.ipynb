{
  "metadata": {
    "kernelspec": {
      "name": "python",
      "display_name": "Python (Pyodide)",
      "language": "python"
    },
    "language_info": {
      "codemirror_mode": {
        "name": "python",
        "version": 3
      },
      "file_extension": ".py",
      "mimetype": "text/x-python",
      "name": "python",
      "nbconvert_exporter": "python",
      "pygments_lexer": "ipython3",
      "version": "3.8"
    },
    "grader_version": "1"
  },
  "nbformat_minor": 4,
  "nbformat": 4,
  "cells": [
    {
      "cell_type": "code",
      "source": "import numpy as np\nimport pandas as pd\nfrom nltk.corpus import stopwords\nfrom nltk import word_tokenize\nimport string",
      "metadata": {
        "tags": [
          "graded"
        ]
      },
      "outputs": [],
      "execution_count": 1
    },
    {
      "cell_type": "code",
      "source": "import w1_unittest",
      "metadata": {},
      "outputs": [],
      "execution_count": 2
    },
    {
      "cell_type": "code",
      "source": "dataframe_emails = pd.read_csv('emails.csv')\ndataframe_emails.head()",
      "metadata": {},
      "outputs": [
        {
          "data": {
            "text/html": [
              "<div>\n",
              "<style scoped>\n",
              "    .dataframe tbody tr th:only-of-type {\n",
              "        vertical-align: middle;\n",
              "    }\n",
              "\n",
              "    .dataframe tbody tr th {\n",
              "        vertical-align: top;\n",
              "    }\n",
              "\n",
              "    .dataframe thead th {\n",
              "        text-align: right;\n",
              "    }\n",
              "</style>\n",
              "<table border=\"1\" class=\"dataframe\">\n",
              "  <thead>\n",
              "    <tr style=\"text-align: right;\">\n",
              "      <th></th>\n",
              "      <th>text</th>\n",
              "      <th>spam</th>\n",
              "    </tr>\n",
              "  </thead>\n",
              "  <tbody>\n",
              "    <tr>\n",
              "      <th>0</th>\n",
              "      <td>Subject: naturally irresistible your corporate...</td>\n",
              "      <td>1</td>\n",
              "    </tr>\n",
              "    <tr>\n",
              "      <th>1</th>\n",
              "      <td>Subject: the stock trading gunslinger  fanny i...</td>\n",
              "      <td>1</td>\n",
              "    </tr>\n",
              "    <tr>\n",
              "      <th>2</th>\n",
              "      <td>Subject: unbelievable new homes made easy  im ...</td>\n",
              "      <td>1</td>\n",
              "    </tr>\n",
              "    <tr>\n",
              "      <th>3</th>\n",
              "      <td>Subject: 4 color printing special  request add...</td>\n",
              "      <td>1</td>\n",
              "    </tr>\n",
              "    <tr>\n",
              "      <th>4</th>\n",
              "      <td>Subject: do not have money , get software cds ...</td>\n",
              "      <td>1</td>\n",
              "    </tr>\n",
              "  </tbody>\n",
              "</table>\n",
              "</div>"
            ],
            "text/plain": [
              "                                                text  spam\n",
              "0  Subject: naturally irresistible your corporate...     1\n",
              "1  Subject: the stock trading gunslinger  fanny i...     1\n",
              "2  Subject: unbelievable new homes made easy  im ...     1\n",
              "3  Subject: 4 color printing special  request add...     1\n",
              "4  Subject: do not have money , get software cds ...     1"
            ]
          },
          "execution_count": 3,
          "metadata": {},
          "output_type": "execute_result"
        }
      ],
      "execution_count": 3
    },
    {
      "cell_type": "code",
      "source": "#exploring the dataset\nprint(f\"Number of emails: {len(dataframe_emails)}\")\nprint(f\"Proportion of spam emails: {dataframe_emails.spam.sum()/len(dataframe_emails):.4f}\")\nprint(f\"Proportion of ham emails: {1-dataframe_emails.spam.sum()/len(dataframe_emails):.4f}\")",
      "metadata": {},
      "outputs": [
        {
          "name": "stdout",
          "output_type": "stream",
          "text": [
            "Number of emails: 5728\n",
            "Proportion of spam emails: 0.2388\n",
            "Proportion of ham emails: 0.7612\n"
          ]
        }
      ],
      "execution_count": 4
    },
    {
      "cell_type": "code",
      "source": "def preprocess_emails(df):\n    # Shuffles the dataset\n    df = df.sample(frac = 1, ignore_index = True, random_state = 42)\n    # Removes the \"Subject:\" string, which comprises the first 9 characters of each email. Also, convert it to a numpy array.\n    X = df.text.apply(lambda x: x[9:]).to_numpy()\n    # Convert the labels to numpy array\n    Y = df.spam.to_numpy()\n    return X, Y",
      "metadata": {},
      "outputs": [],
      "execution_count": 5
    },
    {
      "cell_type": "code",
      "source": "X, Y = preprocess_emails(dataframe_emails)",
      "metadata": {},
      "outputs": [],
      "execution_count": 6
    },
    {
      "cell_type": "code",
      "source": "def preprocess_text(X):\n    \"\"\"\n    Preprocesses a collection of text data by removing stopwords and punctuation.\n    \"\"\"\n    # Make a set with the stopwords and punctuation\n    stop = set(stopwords.words('english') + list(string.punctuation))\n\n    # The next lines will handle the case where a single email is passed instead of an array of emails.\n    if isinstance(X, str):\n        X = np.array([X])\n\n    # The result will be stored in a list\n    X_preprocessed = []\n\n    for i, email in enumerate(X):\n        email = np.array([i.lower() for i in word_tokenize(email) if i.lower() not in stop]).astype(X.dtype)\n        X_preprocessed.append(email)\n        \n    if len(X) == 1:\n        return X_preprocessed[0]\n    return X_preprocessed\n",
      "metadata": {},
      "outputs": [],
      "execution_count": 10
    },
    {
      "cell_type": "code",
      "source": "\nX_treated = preprocess_text(X)",
      "metadata": {},
      "outputs": [],
      "execution_count": 11
    },
    {
      "cell_type": "code",
      "source": "#Splitting data into train/test\nTRAIN_SIZE = int(0.80*len(X_treated)) # 80% of the samples will be used to train.\nX_train = X_treated[:TRAIN_SIZE]\nY_train = Y[:TRAIN_SIZE]\nX_test = X_treated[TRAIN_SIZE:]\nY_test = Y[TRAIN_SIZE:]",
      "metadata": {},
      "outputs": [],
      "execution_count": 13
    },
    {
      "cell_type": "code",
      "source": "def get_word_frequency(X,Y):\n    \"\"\"\n    Calculate the frequency of each word in a set of emails categorized as spam (1) or not spam (0).\n    \n    \"\"\"\n    word_dict = {}\n\n    num_emails = len(X)\n\n    for i in range(num_emails):\n        email = X[i] \n        cls = Y[i] \n        email = set(email) \n        for word in email:\n            if word not in word_dict.keys():\n                word_dict[word] = {'spam': 1, 'ham': 1}\n            if cls == 0:    \n                word_dict[word]['ham'] += 1\n            if cls == 1:\n                word_dict[word]['spam'] += 1\n    \n    return word_dict",
      "metadata": {
        "tags": [
          "graded"
        ]
      },
      "outputs": [],
      "execution_count": 15
    },
    {
      "cell_type": "code",
      "source": "# Building the word_frequency dictionary using the training set. \nword_frequency = get_word_frequency(X_train,Y_train)",
      "metadata": {
        "tags": []
      },
      "outputs": [],
      "execution_count": 18
    },
    {
      "cell_type": "code",
      "source": "# Counting the spam and ham emails\nclass_frequency = {'ham': sum(Y_train == 0), 'spam': sum(Y_train == 1)}",
      "metadata": {
        "tags": []
      },
      "outputs": [],
      "execution_count": 19
    },
    {
      "cell_type": "code",
      "source": "def prob_word_given_class(word, cls, word_frequency, class_frequency):\n    \"\"\"\n    Calculate the conditional probability of a given word occurring in a specific class.\n\n    \"\"\"\n    # Get the amount of times the word appears with the given class (class is stores in spam variable)\n    amount_word_and_class = word_frequency[word][cls]\n    p_word_given_class = amount_word_and_class/class_frequency[cls]\n    \n    return p_word_given_class",
      "metadata": {
        "tags": [
          "graded"
        ]
      },
      "outputs": [],
      "execution_count": 22
    },
    {
      "cell_type": "code",
      "source": "def prob_email_given_class(treated_email, cls, word_frequency, class_frequency):\n    \"\"\"\n    Calculate the probability of an email being of a certain class (e.g., spam or ham) based on treated email content.\n\n    \"\"\"\n\n    prob = 1\n\n    for word in treated_email:\n        \n        if word in word_frequency.keys(): \n\n            prob *= prob_word_given_class(word, cls, word_frequency = word_frequency, class_frequency = class_frequency)\n\n    return prob",
      "metadata": {
        "tags": [
          "graded"
        ]
      },
      "outputs": [],
      "execution_count": 27
    },
    {
      "cell_type": "code",
      "source": "def naive_bayes(treated_email, word_frequency, class_frequency, return_likelihood = False):    \n    \"\"\"\n    Naive Bayes classifier for spam detection.\n\n    This function determines whether an email is likely to be spam (1) or not spam (0) using the Naive Bayes algorithm.\n    It relies on the conditional probabilities associated with the treated email being classified as spam or not spam,\n    along with the prior probabilities of spam and not spam classes. The ultimate classification is determined by comparing these calculated probabilities.\n\n    \"\"\"\n\n    prob_email_given_spam = prob_email_given_class(treated_email, 'spam', word_frequency, class_frequency)\n\n    prob_email_given_ham = prob_email_given_class(treated_email, 'ham', word_frequency, class_frequency)\n\n    p_spam = class_frequency['spam']/(class_frequency['spam']+class_frequency['ham'])\n    \n    p_ham = class_frequency['ham']/(class_frequency['spam']+class_frequency['ham'])\n\n    spam_likelihood = p_spam * prob_email_given_spam\n\n    ham_likelihood = p_ham * prob_email_given_ham\n    \n    if return_likelihood == True:\n        return (spam_likelihood, ham_likelihood)\n    \n    elif spam_likelihood >= ham_likelihood:\n        return 1\n    else:\n        return 0",
      "metadata": {
        "tags": [
          "graded"
        ]
      },
      "outputs": [],
      "execution_count": 30
    },
    {
      "cell_type": "code",
      "source": "def get_true_positives(Y_true, Y_pred):\n    \"\"\"\n    Calculate the number of true positive instances in binary classification.\n\n    \"\"\"\n    if len(Y_true) != len(Y_pred):\n        return \"Number of true labels and predict labels must match!\"\n    n = len(Y_true)\n    true_positives = 0\n    for i in range(n):\n        true_label_i = Y_true[i]\n        predicted_label_i = Y_pred[i]\n        if true_label_i == 1 and predicted_label_i == 1:\n            true_positives += 1\n    return true_positives\n        \ndef get_true_negatives(Y_true, Y_pred):\n    \"\"\"\n    Calculate the number of true negative instances in binary classification.\n\n    \"\"\"\n    if len(Y_true) != len(Y_pred):\n        return \"Number of true labels and predict labels must match!\"\n    n = len(Y_true)\n    true_negatives = 0\n    for i in range(n):\n        true_label_i = Y_true[i]\n        predicted_label_i = Y_pred[i]\n        if true_label_i == 0 and predicted_label_i == 0:\n            true_negatives += 1\n    return true_negatives\n        ",
      "metadata": {},
      "outputs": [],
      "execution_count": 33
    },
    {
      "cell_type": "code",
      "source": "\nY_pred = []\nfor email in X_test:\n    prediction = naive_bayes(email, word_frequency, class_frequency)\n    Y_pred.append(prediction)\nprint(f\"Y_test and Y_pred matches in length? Answer: {len(Y_pred) == len(Y_test)}\")",
      "metadata": {},
      "outputs": [
        {
          "name": "stdout",
          "output_type": "stream",
          "text": [
            "Y_test and Y_pred matches in length? Answer: True\n"
          ]
        }
      ],
      "execution_count": 34
    },
    {
      "cell_type": "code",
      "source": "true_positives = get_true_positives(Y_test, Y_pred)\ntrue_negatives = get_true_negatives(Y_test, Y_pred)\nprint(f\"The number of true positives is: {true_positives}\\nThe number of true negatives is: {true_negatives}\")\naccuracy = (true_positives + true_negatives)/len(Y_test)\nprint(f\"Accuracy is: {accuracy:.4f}\")",
      "metadata": {},
      "outputs": [
        {
          "name": "stdout",
          "output_type": "stream",
          "text": [
            "The number of true positives is: 249\n",
            "The number of true negatives is: 723\n",
            "Accuracy is: 0.8482\n"
          ]
        }
      ],
      "execution_count": 37
    }
  ]
}